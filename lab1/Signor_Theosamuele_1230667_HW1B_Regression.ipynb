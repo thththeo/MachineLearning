{
 "cells": [
  {
   "cell_type": "markdown",
   "metadata": {},
   "source": [
    "# Linear and Polynomial Regression  \n"
   ]
  },
  {
   "cell_type": "markdown",
   "metadata": {},
   "source": [
    "Student name: Theosamuele Signor<br>\n",
    "ID Number: 1230667"
   ]
  },
  {
   "cell_type": "markdown",
   "metadata": {},
   "source": [
    "## 1) Linear Regression on the Boston House Price dataset\n",
    "\n",
    "\n",
    "\n",
    "## Dataset description\n",
    "\n",
    "The Boston House Price Dataset involves the prediction of a house price in thousands of dollars given details about the house and its neighborhood.\n",
    "\n",
    "The dataset contains a total of 500 observations, which relate 13 input features to an output variable (house price). <br>\n",
    "The variable names are as follows:\n",
    "1. CRIM: per capita crime rate by town. <br>\n",
    "2. ZN: proportion of residential land zoned for lots over 25,000 sq.ft. <br>\n",
    "3. INDUS: proportion of nonretail business acres per town. <br>\n",
    "4. CHAS: Charles River dummy variable (= 1 if tract bounds river; 0 otherwise). <br>\n",
    "5. NOX: nitric oxides concentration (parts per 10 million). <br>\n",
    "6. RM: average number of rooms per dwelling. <br>\n",
    "7. AGE: proportion of owner-occupied units built prior to 1940. <br>\n",
    "8. DIS: weighted distances to five Boston employment centers. <br>\n",
    "9. RAD: index of accessibility to radial highways. <br>\n",
    "10. TAX: full-value property-tax rate per $\\$$10,000. <br>\n",
    "11. PTRATIO: pupil-teacher ratio by town. <br>\n",
    "12. B: 1000*(Bk – 0.63)\\$^2\\$ where Bk is the proportion of blacks by town. <br>\n",
    "13. LSTAT: \\% lower status of the population. <br>\n",
    "14. MEDV: Median value of owner-occupied homes in $\\$$1000s. <br>"
   ]
  },
  {
   "cell_type": "code",
   "execution_count": 1,
   "metadata": {},
   "outputs": [],
   "source": [
    "import matplotlib.pyplot as plt\n",
    "import numpy as np\n",
    "import scipy as sp\n",
    "import pandas as pd\n",
    "from scipy import stats\n",
    "import seaborn as sns\n",
    "sns.set_style('whitegrid')"
   ]
  },
  {
   "cell_type": "markdown",
   "metadata": {},
   "source": [
    "## Import Data\n",
    "Load the data from a .csv file\n",
    "\n",
    "**TO DO:** insert a seed number (e.g., your ID number (matricola))\n"
   ]
  },
  {
   "cell_type": "code",
   "execution_count": 2,
   "metadata": {},
   "outputs": [],
   "source": [
    "# Load the data\n",
    "IDnumber = 1230667\n",
    "np.random.seed(IDnumber)\n",
    "\n",
    "filename = \"data/house.csv\"\n",
    "\n",
    "Data = np.genfromtxt(filename, delimiter=';',skip_header=1)"
   ]
  },
  {
   "cell_type": "markdown",
   "metadata": {},
   "source": [
    "# A quick overview of data\n",
    "\n",
    "To inspect the data you can use the method describe()"
   ]
  },
  {
   "cell_type": "code",
   "execution_count": 3,
   "metadata": {},
   "outputs": [
    {
     "name": "stdout",
     "output_type": "stream",
     "text": [
      "DescribeResult(nobs=500, minmax=(array([6.3200e-03, 0.0000e+00, 4.6000e-01, 0.0000e+00, 3.8500e-01,\n",
      "       3.5610e+00, 2.9000e+00, 1.1296e+00, 1.0000e+00, 1.8700e+02,\n",
      "       1.2600e+01, 3.2000e-01, 1.7300e+00, 5.0000e+01]), array([ 88.9762, 100.    ,  27.74  ,   1.    ,   0.871 ,   8.78  ,\n",
      "       100.    ,  12.1265,  24.    , 711.    ,  22.    , 396.9   ,\n",
      "        37.97  , 500.    ])), mean=array([3.65578576e+00, 1.15000000e+01, 1.11317400e+01, 7.00000000e-02,\n",
      "       5.54451400e-01, 6.28297000e+00, 6.84246000e+01, 3.81193180e+00,\n",
      "       9.64200000e+00, 4.09624000e+02, 1.84286000e+01, 3.56208040e+02,\n",
      "       1.26987400e+01, 2.25680000e+02]), variance=array([7.47252195e+01, 5.48905812e+02, 4.76198228e+01, 6.52304609e-02,\n",
      "       1.35838329e-02, 4.97618330e-01, 7.99314163e+02, 4.46304043e+00,\n",
      "       7.59617595e+01, 2.85605197e+04, 4.67663531e+00, 8.41657137e+03,\n",
      "       5.13361942e+01, 8.52982926e+03]), skewness=array([ 5.17851447,  2.19924065,  0.29469001,  3.37060575,  0.72944382,\n",
      "        0.40691344, -0.58266003,  0.99061328,  0.9886802 ,  0.65098333,\n",
      "       -0.79127942, -2.85972639,  0.89051925,  1.09625625]), kurtosis=array([36.3384518 ,  3.88460431, -1.25254394,  9.3609831 , -0.10223624,\n",
      "        1.84311394, -0.99523636,  0.43299159, -0.90519243, -1.16696682,\n",
      "       -0.30903922,  7.00864873,  0.44527324,  1.4266838 ]))\n",
      "Shape of data array: (500, 14)\n"
     ]
    }
   ],
   "source": [
    "dataDescription = stats.describe(Data)\n",
    "print(dataDescription)\n",
    "\n",
    "print (\"Shape of data array: \" + str(Data.shape))"
   ]
  },
  {
   "cell_type": "markdown",
   "metadata": {},
   "source": [
    "# Split data in training, validation and test sets\n",
    "\n",
    "\n",
    "\n",
    "Given $m$ total data, denote with $m_{tv}$ the part used for training and validation. Keep $m_t$ data as training data, $m_{val}:=m_{tv}-m_t$ as validation data and $m_{test}:=m - m_{val} - m_t = m-m_{tv}$. For instance one can take $m_t=m/2$ of the data as training, $m_{val}=m/4$  validation and $m_{test}=m/4$ as testing. Let us define: \n",
    "\n",
    "$\\bullet$ $S_{t}$ the training data set\n",
    "\n",
    "$\\bullet$ $S_{val}$ the validation data set\n",
    "\n",
    "$\\bullet$ $S_{test}$ the testing data set\n",
    "\n",
    "\n",
    "The reason for this splitting is as follows:\n",
    "\n",
    "TRAINING DATA: The training data are used to compute the empirical loss\n",
    "$$\n",
    "L_S(h) = \\frac{1}{m_t} \\sum_{z_i \\in S_{t}} \\ell(h,z_i)\n",
    "$$\n",
    "which is used to estimate $h$ in a given model class ${\\cal H}$.\n",
    "i.e. \n",
    "$$\n",
    "\\hat{h} = {\\rm arg\\; min}_{h \\in {\\cal H}} \\, L_S(h)\n",
    "$$\n",
    "\n",
    "VALIDATION DATA: When different model classes are present (e.g. of different complexity such as linear regression which uses a different number $d_j$ of regressors $x_1$,...$x_{d_j}$), one has to choose which one is the \"best\" complexity. \n",
    "Let ${\\cal H}_{d_j}$ be the space of models as a function of the complexity $d_j$ and let \n",
    "$$\n",
    "\\hat h_{d_j} = {\\rm arg\\; min}_{h \\in {\\cal H}_{d_j}} \\, L_S(h)\n",
    "$$\n",
    "\n",
    "One can estimate the generalization error for model $\\hat h_{d_j}$ as follows:\n",
    "$$\n",
    "L_{{\\cal D}}(\\hat h_{d_j}) \\simeq \\frac{1}{m_{val}} \\sum_{ z_i \\in S_{val}} \\ell(\\hat h_{d_j},z_i)\n",
    "$$\n",
    "and then choose the complexity which achieves the best estimate of the generalization error\n",
    "$$\n",
    "\\hat d_j: = {\\rm arg\\; min}_{d_j} \\,\\frac{1}{m_{val}} \\sum_{ z_i \\in S_{val}} \\ell(\\hat h_{d_j},z_i)\n",
    "$$\n",
    "\n",
    "TESTING DATA: Last, the test data set can be used to estimate the performance of the final estimated model\n",
    "$\\hat h_{\\hat d_j}$ using:\n",
    "$$\n",
    "L_{{\\cal D}}(\\hat h_{\\hat d_j}) \\simeq \\frac{1}{m_{test}} \\sum_{ z_i \\in S_{test}} \\ell(\\hat h_{\\hat d_j},z_i)\n",
    "$$\n",
    "\n",
    "\n",
    "**TO DO**: split the data in training, validation and test sets (50%-25%-25%)"
   ]
  },
  {
   "cell_type": "code",
   "execution_count": 4,
   "metadata": {},
   "outputs": [
    {
     "name": "stdout",
     "output_type": "stream",
     "text": [
      "Total number of samples:  500\n",
      "Size of each chunk of data:  125\n",
      "Training input data size:  (250, 13)\n",
      "Training output data size:  (250,)\n",
      "Validation input data size:  (125, 13)\n",
      "Validation output data size:  (125,)\n",
      "Test input data size:  (125, 13)\n",
      "Test output data size:  (125,)\n"
     ]
    }
   ],
   "source": [
    "#get number of total samples\n",
    "num_total_samples = Data.shape[0]\n",
    "\n",
    "print (\"Total number of samples: \", num_total_samples)\n",
    "\n",
    "#size of each chunk of data (1/4 each): 2 of them for training, 1 for validation, 1 for testing\n",
    "size_chunk = int(num_total_samples/4)\n",
    "print (\"Size of each chunk of data: \", size_chunk)\n",
    "\n",
    "#shuffle the data\n",
    "np.random.shuffle(Data)\n",
    "\n",
    "#training data \n",
    "\n",
    "X_training = Data[:2*size_chunk,:-1]\n",
    "Y_training = Data[:2*size_chunk,-1]\n",
    "print (\"Training input data size: \", X_training.shape)\n",
    "print (\"Training output data size: \", Y_training.shape)\n",
    "\n",
    "#validation data, to be used to choose among different models\n",
    "X_validation = Data[2*size_chunk:3*size_chunk,:-1]\n",
    "Y_validation = Data[2*size_chunk:3*size_chunk,-1]\n",
    "print (\"Validation input data size: \", X_validation.shape)\n",
    "print (\"Validation output data size: \", Y_validation.shape)\n",
    "\n",
    "#test data, to be used to estimate the true loss of the final model(s)\n",
    "X_test = Data[3*size_chunk:,:-1]\n",
    "Y_test = Data[3*size_chunk:,-1]\n",
    "print (\"Test input data size: \", X_test.shape)\n",
    "print (\"Test output data size: \", Y_test.shape)\n"
   ]
  },
  {
   "cell_type": "markdown",
   "metadata": {},
   "source": [
    "# Data Normalization\n",
    "\n",
    "It is common practice in Statistics and Machine Learning to scale the data (= each variable) so that it is centered (zero mean) and has standard deviation equal to $1$. This helps in terms of numerical conditioning of the (inverse) problems of estimating the model (the coefficients of the linear regression in this case), as well as to give the same scale to all the coefficients. "
   ]
  },
  {
   "cell_type": "code",
   "execution_count": 5,
   "metadata": {},
   "outputs": [
    {
     "name": "stdout",
     "output_type": "stream",
     "text": [
      "Mean of the training input data: [-1.95843342e-16 -2.70894418e-17  1.61870517e-15 -3.10862447e-18\n",
      "  7.36255501e-15  4.36295444e-15  1.91135996e-15  1.82076576e-16\n",
      " -2.57571742e-17  1.61648472e-16  1.43640655e-14 -1.83408844e-16\n",
      " -9.06386077e-16]\n",
      "Std of the training input data: [1. 1. 1. 1. 1. 1. 1. 1. 1. 1. 1. 1. 1.]\n",
      "Mean of the validation input data: [ 0.18394291  0.07369895 -0.02287315  0.11122326  0.02972711  0.01454652\n",
      "  0.08482794 -0.06641476  0.26598768  0.13393362  0.09610476 -0.10398769\n",
      "  0.24949197]\n",
      "Std of the validation input data: [1.22627776 0.99241349 0.9881917  1.17019279 0.89244404 1.10082841\n",
      " 0.87675572 1.01808409 1.13150905 1.13363413 1.02488925 1.19888812\n",
      " 1.20712947]\n",
      "Mean of the test input data: [-0.09589185  0.1559086  -0.02338728 -0.07944519  0.00440451 -0.04009575\n",
      "  0.06621787 -0.0157042   0.07035181  0.03663121  0.13771333 -0.01275997\n",
      "  0.12939065]\n",
      "Std of the test input data: [0.51038269 1.22030075 1.03849033 0.84913488 0.95325974 0.84559683\n",
      " 0.98524392 1.03038973 1.03578712 1.04777284 0.94346512 0.92504512\n",
      " 1.05455446]\n"
     ]
    }
   ],
   "source": [
    "#scale the data\n",
    "\n",
    "# standardize the input matrix\n",
    "from sklearn import preprocessing\n",
    "# the transformation is computed on training data and then used on all the 3 sets\n",
    "scaler = preprocessing.StandardScaler().fit(X_training) \n",
    "\n",
    "X_training = scaler.transform(X_training)\n",
    "print (\"Mean of the training input data:\", X_training.mean(axis=0))\n",
    "print (\"Std of the training input data:\",X_training.std(axis=0))\n",
    "\n",
    "X_validation = scaler.transform(X_validation) # use the same transformation on validation data\n",
    "print (\"Mean of the validation input data:\", X_validation.mean(axis=0))\n",
    "print (\"Std of the validation input data:\", X_validation.std(axis=0))\n",
    "\n",
    "X_test = scaler.transform(X_test) # use the same transformation on test data\n",
    "print (\"Mean of the test input data:\", X_test.mean(axis=0))\n",
    "print (\"Std of the test input data:\", X_test.std(axis=0))\n"
   ]
  },
  {
   "cell_type": "markdown",
   "metadata": {},
   "source": [
    "# Model Training \n",
    "\n",
    "The model is trained (= estimated) minimizing the empirical error\n",
    "$$\n",
    "L_S(h) := \\frac{1}{m_t} \\sum_{z_i \\in S_{t}} \\ell(h,z_i)\n",
    "$$\n",
    "When the loss function is the quadratic loss\n",
    "$$\n",
    "\\ell(h,z) := (y - h(x))^2\n",
    "$$\n",
    "we define  the Residual Sum of Squares (RSS) as\n",
    "$$\n",
    "RSS(h):= \\sum_{z_i \\in S_{t}} \\ell(h,z_i) = \\sum_{z_i \\in S_{t}} (y_i - h(x_i))^2\n",
    "$$ so that the training error becomes\n",
    "$$\n",
    "L_S(h) = \\frac{RSS(h)}{m_t}\n",
    "$$\n",
    "\n",
    "We recal that, for linear models we have $h(x) = <w,x>$ and the Empirical error $L_S(h)$ can be written\n",
    "in terms of the vector of parameters $w$ in the form\n",
    "$$\n",
    "L_S(w) = \\frac{1}{m_t} \\|Y - X w\\|^2\n",
    "$$\n",
    "where $Y$ and $X$ are the matrices whose $i-$th row are, respectively, the output data $y_i$ and the input vectors $x_i^\\top$.\n",
    "\n",
    "\n",
    " **TO DO:** compute the linear regression coefficients implementing the least square algorithm as done in the introductory lab **and** using np.linalg.lstsq from scikitlear "
   ]
  },
  {
   "cell_type": "code",
   "execution_count": 92,
   "metadata": {},
   "outputs": [
    {
     "ename": "TypeError",
     "evalue": "_lstsq_dispatcher() got an unexpected keyword argument 'weight'",
     "output_type": "error",
     "traceback": [
      "\u001b[0;31m---------------------------------------------------------------------------\u001b[0m",
      "\u001b[0;31mTypeError\u001b[0m                                 Traceback (most recent call last)",
      "\u001b[0;32m<ipython-input-92-b20bf6e6abeb>\u001b[0m in \u001b[0;36m<module>\u001b[0;34m\u001b[0m\n\u001b[0;32m----> 1\u001b[0;31m \u001b[0mw_np\u001b[0m\u001b[0;34m,\u001b[0m \u001b[0mRSStr_np\u001b[0m\u001b[0;34m,\u001b[0m \u001b[0mrank_Xtr\u001b[0m\u001b[0;34m,\u001b[0m \u001b[0msv_Xtr\u001b[0m \u001b[0;34m=\u001b[0m  \u001b[0mnp\u001b[0m\u001b[0;34m.\u001b[0m\u001b[0mlinalg\u001b[0m\u001b[0;34m.\u001b[0m\u001b[0mlstsq\u001b[0m\u001b[0;34m(\u001b[0m\u001b[0mX_h_train\u001b[0m\u001b[0;34m,\u001b[0m \u001b[0mY_training\u001b[0m\u001b[0;34m,\u001b[0m \u001b[0mrcond\u001b[0m\u001b[0;34m=\u001b[0m\u001b[0;32mNone\u001b[0m\u001b[0;34m,\u001b[0m\u001b[0mweight\u001b[0m\u001b[0;34m=\u001b[0m\u001b[0mnp\u001b[0m\u001b[0;34m.\u001b[0m\u001b[0mones\u001b[0m\u001b[0;34m(\u001b[0m\u001b[0;36m250\u001b[0m\u001b[0;34m)\u001b[0m\u001b[0;34m)\u001b[0m\u001b[0;34m\u001b[0m\u001b[0;34m\u001b[0m\u001b[0m\n\u001b[0m",
      "\u001b[0;32m<__array_function__ internals>\u001b[0m in \u001b[0;36mlstsq\u001b[0;34m(*args, **kwargs)\u001b[0m\n",
      "\u001b[0;31mTypeError\u001b[0m: _lstsq_dispatcher() got an unexpected keyword argument 'weight'"
     ]
    }
   ],
   "source": [
    "w_np, RSStr_np, rank_Xtr, sv_Xtr =  np.linalg.lstsq(X_h_train, Y_training, rcond=None,weight=np.ones(250)) "
   ]
  },
  {
   "cell_type": "code",
   "execution_count": 88,
   "metadata": {},
   "outputs": [
    {
     "name": "stdout",
     "output_type": "stream",
     "text": [
      "LS coefficients by hand: [[230.712     ]\n",
      " [ -9.97139395]\n",
      " [ 11.88475005]\n",
      " [  6.78686081]\n",
      " [  3.82763964]\n",
      " [-15.88478216]\n",
      " [ 29.10851754]\n",
      " [  2.51556009]\n",
      " [-26.68363011]\n",
      " [ 30.78291512]\n",
      " [-23.40325613]\n",
      " [-18.77604445]\n",
      " [ 10.7365826 ]\n",
      " [-43.13330636]]\n",
      "LS coefficients with numpy lstsq: [230.712       -9.97139395  11.88475005   6.78686081   3.82763964\n",
      " -15.88478216  29.10851754   2.51556009 -26.68363011  30.78291512\n",
      " -23.40325613 -18.77604445  10.7365826  -43.13330636]\n",
      "RSS by hand: 555720.0195660922\n",
      "RSS with numpy lstsq:  [555720.01956609]\n",
      "Empirical risk by hand: 2222.880078264369\n",
      "Empirical risk with numpy lstsq: [2222.88007826]\n"
     ]
    }
   ],
   "source": [
    "#compute linear regression coefficients for training data\n",
    "\n",
    "#add a 1 at the beginning of each sample for training, validation, and testing (use homogeneous coordinates)\n",
    "m_train = X_training.shape[0]\n",
    "\n",
    "#h for homogeneous\n",
    "X_h_train = np.hstack((np.ones((m_train,1)),X_training))\n",
    "m_validation = X_validation.shape[0]\n",
    "X_h_validation = np.hstack((np.ones((m_validation,1)),X_validation))\n",
    "m_test = X_test.shape[0]\n",
    "X_h_test = np.hstack((np.ones((m_test,1)),X_test))\n",
    "\n",
    "# Compute the least-squares solution\n",
    "A = np.zeros((X_h_train.shape[1],X_h_train.shape[1]))\n",
    "b = np.zeros((X_h_train.shape[1],1))\n",
    "for i in range(0,m_train):\n",
    "    e = X_h_train[i,:].reshape(X_h_train.shape[1],1)  \n",
    "    A = A + np.matmul(e,np.transpose(e))  \n",
    "    \n",
    "    b = b + Y_training[i]*e\n",
    "\n",
    "w_hand = np.matmul(np.linalg.inv(A),b) # solution for least square\n",
    "\n",
    "# Compute the least-squares coefficients using linalg.lstsq\n",
    "#rcond=None to avoid error messages\n",
    "w_np, RSStr_np, rank_Xtr, sv_Xtr =  np.linalg.lstsq(X_h_train, Y_training, rcond=None) \n",
    "\n",
    "print(\"LS coefficients by hand:\", w_hand)\n",
    "print(\"LS coefficients with numpy lstsq:\", w_np)\n",
    "\n",
    "# compute Residual sums of squares by hand\n",
    "Y_trainingR = Y_training.reshape(250,1)  #R for reshaped\n",
    "RSStr_hand = np.linalg.norm(Y_trainingR-np.dot(X_h_train,  w_hand))**2 # compute error\n",
    "\n",
    "print(\"RSS by hand:\",  RSStr_hand)\n",
    "print(\"RSS with numpy lstsq: \", RSStr_np)\n",
    "\n",
    "print(\"Empirical risk by hand:\", RSStr_hand/m_train)\n",
    "print(\"Empirical risk with numpy lstsq:\", RSStr_np/m_train)\n",
    "#they are exactly the same as the by hand ones"
   ]
  },
  {
   "cell_type": "markdown",
   "metadata": {},
   "source": [
    "## Data prediction \n",
    "\n",
    "Compute the output predictions on both training and validation set and compute the Residual Sum of Sqaures (RSS) defined above, the Emprical Loss and the quantity $1-R^2$ where\n",
    "$$\n",
    "R^2 = \\frac{\\sum_{z_i \\in S_t} (\\hat y_i - \\bar y)^2}{\\sum_{z_i \\in S_t} (y_i - \\bar y)^2} \\quad \\quad \\bar y = \\frac{1}{m_t} \\sum_{z_i \\in S_t} y_i\n",
    "$$\n",
    "is the so-called \"Coefficient of determination\" (COD)\n",
    "\n",
    "**TO DO**: Compute these quantities on  training, validation and test sets.\n"
   ]
  },
  {
   "cell_type": "code",
   "execution_count": 7,
   "metadata": {},
   "outputs": [
    {
     "name": "stdout",
     "output_type": "stream",
     "text": [
      "RSS on validation data: 359670.1176276882\n",
      "Loss estimated from validation data: 2877.360941021506\n",
      "Measure on Training Data (1-R^2): 0.26571786405152176\n",
      "Measure on Validation Data(1-R^2): 0.2812182276969023\n",
      "Measure on Test Data(1-R^2): 0.2464274721717495\n"
     ]
    }
   ],
   "source": [
    "#compute predictions on training and validation\n",
    "\n",
    "#prediction_training \n",
    "prediction_training = np.dot(X_h_train, w_np)\n",
    "prediction_validation = np.dot(X_h_validation, w_np)\n",
    "prediction_test = np.dot(X_h_test, w_np)\n",
    "\n",
    "#what about the loss for points in the validation data?\n",
    "RSS_validation = np.linalg.norm(Y_validation-np.dot(X_h_validation, w_np))**2\n",
    "RSS_test = np.linalg.norm(Y_test-np.dot(X_h_test, w_np))**2\n",
    "\n",
    "print(\"RSS on validation data:\",  RSS_validation)\n",
    "print(\"Loss estimated from validation data:\", RSS_validation/m_validation)\n",
    "    \n",
    "#another measure of how good our linear fit is given by the following (that is 1 - R^2)\n",
    "measure_training = np.linalg.norm(Y_training-prediction_training)**2/np.linalg.norm(Y_training-Y_training.mean())**2\n",
    "measure_validation = np.linalg.norm(Y_validation-prediction_validation)**2/np.linalg.norm(Y_validation-Y_validation.mean())**2\n",
    "measure_test = np.linalg.norm(Y_test-prediction_test)**2/np.linalg.norm(Y_test-Y_test.mean())**2\n",
    "\n",
    "print(\"Measure on Training Data (1-R^2):\", measure_training)\n",
    "print(\"Measure on Validation Data(1-R^2):\", measure_validation)\n",
    "print(\"Measure on Test Data(1-R^2):\", measure_test)"
   ]
  },
  {
   "cell_type": "markdown",
   "metadata": {},
   "source": [
    "**QUESTION 1**: Comment on the results you get and on the difference between the train, validation and test errors.\n",
    "\n",
    "**ANSWER QUESTION 1** The $R^2$ coefficient measure of how well the regression predictions approximate the real data points. So, an $1-R^2$ of 0 indicates that the predictions perfectly fit the data.<br>\n",
    "I will call this value 'error'.<br>\n",
    "The training and validation error are very similar, with the latter slightly larger. This is an expected result for a good fit, since we usually we are better in predict what we have learned than the unknown.<br>  Contrary to what has just been written, the test error is smaller than the train one, this could mean that it might be a good choice to reevaluate our data splitting, enlarging the train set."
   ]
  },
  {
   "cell_type": "markdown",
   "metadata": {},
   "source": [
    "## ... and plot:\n",
    "\n",
    "\n",
    "### (1) output predictions on training  data"
   ]
  },
  {
   "cell_type": "code",
   "execution_count": 8,
   "metadata": {},
   "outputs": [
    {
     "data": {
      "image/png": "[encoded data removed]",
      "text/plain": [
       "<Figure size 432x288 with 1 Axes>"
      ]
     },
     "metadata": {},
     "output_type": "display_data"
    }
   ],
   "source": [
    "# Plot predictions on Training data \n",
    "plt.figure()\n",
    "\n",
    "\n",
    "#the following is just for nice plotting, not required: it sorts the predictions by value so that they fall on\n",
    "# a line and it's easier to spot the differences\n",
    "\n",
    "# NOTICE: This code is suitable for the \"standard\" solution, check that the variable names \n",
    "# and structure are compatible with your implementation\n",
    "\n",
    "sorting_permutation = sorted(range(len(prediction_training[0:m_train])), key=lambda k: prediction_training[0:m_train][k])\n",
    "plt.plot(Y_training[sorting_permutation], 'ko', alpha=0.5)\n",
    "plt.plot(prediction_training[sorting_permutation], 'rx')\n",
    "\n",
    "plt.xlabel('Input (index of instance)')\n",
    "plt.ylabel('Predicted Output')\n",
    "plt.title('Predictions on Training Data')\n",
    "plt.show()"
   ]
  },
  {
   "cell_type": "markdown",
   "metadata": {},
   "source": [
    "### (2) output predictions on validation  data"
   ]
  },
  {
   "cell_type": "code",
   "execution_count": 9,
   "metadata": {},
   "outputs": [
    {
     "data": {
      "image/png": "[encoded data removed]",
      "text/plain": [
       "<Figure size 432x288 with 1 Axes>"
      ]
     },
     "metadata": {},
     "output_type": "display_data"
    }
   ],
   "source": [
    "# Plot predictions on validation data \n",
    "plt.figure()\n",
    "\n",
    "#the following is just for nice plotting, not required: it sorts the predictions by value so that they fall on\n",
    "# a line and it's easier to spot the differences\n",
    "\n",
    "# NOTICE: This code is suitable for the \"standard\" solution, check that the variable names \n",
    "# and structure are compatible with your implementation\n",
    "\n",
    "sorting_permutation = sorted(range(len(prediction_validation[0:m_validation])), key=lambda k: prediction_validation[0:m_validation][k])\n",
    "plt.plot(Y_validation[sorting_permutation], 'ko', alpha=0.5)\n",
    "plt.plot(prediction_validation[sorting_permutation], 'gx')\n",
    "\n",
    "\n",
    "plt.xlabel('Input (index of instance)')\n",
    "plt.ylabel('Predicted Output')\n",
    "plt.title('Predictions on Validation Data')\n",
    "plt.show()"
   ]
  },
  {
   "cell_type": "markdown",
   "metadata": {},
   "source": [
    "## Ordinary Least-Squares using scikit-learn\n",
    "\n",
    "A fast way to compute the LS estimate is through sklearn.linear_model"
   ]
  },
  {
   "cell_type": "code",
   "execution_count": 35,
   "metadata": {},
   "outputs": [
    {
     "name": "stdout",
     "output_type": "stream",
     "text": [
      "Intercept: 230.71200000000022\n",
      "Least-Squares Coefficients: [ -9.97139395  11.88475005   6.78686081   3.82763964 -15.88478216\n",
      "  29.10851754   2.51556009 -26.68363011  30.78291512 -23.40325613\n",
      " -18.77604445  10.7365826  -43.13330636]\n",
      "Measure on training data: 0.26571786405152165\n"
     ]
    }
   ],
   "source": [
    "from sklearn import linear_model\n",
    "LinReg = linear_model.LinearRegression()  # build the object LinearRegression\n",
    "LinReg.fit(X_training, Y_training)  # estimate the LS coefficients\n",
    "print(\"Intercept:\", LinReg.intercept_)\n",
    "print(\"Least-Squares Coefficients:\", LinReg.coef_)\n",
    "prediction_training = LinReg.predict(X_training)  # predict output values on training set\n",
    "prediction_test = LinReg.predict(X_test)  # predict output values on test set\n",
    "print(\"Measure on training data:\", 1-LinReg.score(X_training, Y_training))\n"
   ]
  },
  {
   "cell_type": "markdown",
   "metadata": {},
   "source": [
    "# 2) Polynomial Regression\n",
    "\n",
    "In this exercise you need to use polynomial regression to estimate the height reached by a ball thrown into air. The motion of the ball is controlled by the motion equation with uniform acceleration (in our case given by the gravity) that is a quadratic model. You need to estimate the initial height of the ball (h), the initial speed at which it was launched (v) and the gravity acceleration (g). The equation of the motion is : $y = h + vt + \\frac{1}{2} gt^2$ .\n",
    "In the motion.csv file you can find the measured height values (subject to noise) and the corresponding time instants."
   ]
  },
  {
   "cell_type": "code",
   "execution_count": 36,
   "metadata": {},
   "outputs": [],
   "source": [
    "#import the required packages\n",
    "import matplotlib.pyplot as plt\n",
    "import csv\n",
    "from scipy import stats\n",
    "import numpy as np\n",
    "import sklearn as sl\n",
    "from sklearn import linear_model"
   ]
  },
  {
   "cell_type": "code",
   "execution_count": 37,
   "metadata": {},
   "outputs": [
    {
     "name": "stdout",
     "output_type": "stream",
     "text": [
      "['time', 'height']\n",
      "(500, 1)\n",
      "(500, 1)\n"
     ]
    }
   ],
   "source": [
    "# load the data (time and height values) from the motion.csv file\n",
    "with open('data/motion.csv', 'r') as f:\n",
    "    motion = csv.reader(f, delimiter=';')\n",
    "    \n",
    "    header = next(motion) #skip first line\n",
    "    print(header)\n",
    "    \n",
    "    # get all the rows as a list\n",
    "    data = list(motion)\n",
    "    # transform data into numpy array\n",
    "    data = np.array(data).astype(float)\n",
    "\n",
    "x = data[:,0].reshape(-1,1)\n",
    "y = data[:,1].reshape(-1,1)\n",
    "    \n",
    "print(x.shape)\n",
    "print(y.shape)"
   ]
  },
  {
   "cell_type": "code",
   "execution_count": 38,
   "metadata": {},
   "outputs": [
    {
     "name": "stdout",
     "output_type": "stream",
     "text": [
      "slope (linregress):  0.5227301908080866   intercept (lnregress): 21.304553347021823\n",
      "correlation coefficient: 0.08206857514729198\n"
     ]
    }
   ],
   "source": [
    "# try to perform a linear regression (it does not work properly, the model is quadratic !)\n",
    "\n",
    "slope, intercept, r_value, p_value, std_err = stats.linregress(x[:,0], y[:,0])\n",
    "\n",
    "print('slope (linregress): ', slope,'  intercept (lnregress):', intercept);\n",
    "print('correlation coefficient:', r_value) #very low, the true model is quadratic"
   ]
  },
  {
   "cell_type": "code",
   "execution_count": 39,
   "metadata": {},
   "outputs": [
    {
     "name": "stdout",
     "output_type": "stream",
     "text": [
      "initial position:  [0.96901643]   initial speed: [25.02337708]  gravity acceleration: [9.81989855]\n",
      "correlation coefficient: 0.9985480988596623\n"
     ]
    }
   ],
   "source": [
    "# use polynomial regression (the feature vectors have three components:\n",
    "# they contain all 1s (for bias), the input data $x$ and their squared values $x^2$\n",
    "\n",
    "dataX = np.zeros([500,3])  \n",
    "dataX[:,0] = np.ones([500])  # dataX[:,0]: bias \n",
    "dataX[:,1] = x[:,0]   # dataX[:,1]: 1st order terms\n",
    "dataX[:,2] =x[:,0]*x[:,0]   # dataX[:,2]: 2nd order terms\n",
    "\n",
    "reg =   sl.linear_model.LinearRegression().fit(dataX, y)\n",
    "\n",
    "#ADD YOUR CODE\n",
    "\n",
    "h = reg.intercept_\n",
    "v = reg.coef_[:,1]\n",
    "g = -reg.coef_[:,2]*2  # -0.5g t^2 --> reg.coef_[:,2]=-0.5g --> g = -2*reg.coef_[:,2]\n",
    "                        \n",
    "sc = reg.score(dataX,y)\n",
    "\n",
    "\n",
    "print('initial position: ', h,'  initial speed:', v, ' gravity acceleration:', g )\n",
    "print('correlation coefficient:', np.sqrt(sc))"
   ]
  },
  {
   "cell_type": "markdown",
   "metadata": {},
   "source": [
    "**Question 2** Explain what you conclude looking at the linear and polynomial fitting \n",
    "\n",
    "**ANSWER QUESTION 2** Obviously, the linear fit cannot explain the data and the model doesn't work at all, since the true model is quadratic.<br>\n",
    "On the other hand, the polynomial fit provides great results, as expected, being able to create a second order polynomial model."
   ]
  },
  {
   "cell_type": "code",
   "execution_count": 40,
   "metadata": {},
   "outputs": [
    {
     "data": {
      "image/png": "[encoded data removed]",
      "text/plain": [
       "<Figure size 432x288 with 1 Axes>"
      ]
     },
     "metadata": {},
     "output_type": "display_data"
    }
   ],
   "source": [
    "# plot the input data and the estimated models\n",
    "plt.plot(x, y, 'hotpink', label='data')\n",
    "plt.plot(x, intercept + slope*x, 'black', label='Linear fit')\n",
    "plt.plot(x, h + v*x - (g/2)*x**2, 'blue', label='Polynomial fit')\n",
    "plt.legend(loc='best')\n",
    "plt.xlabel('Time [s]')\n",
    "plt.ylabel('Height [m]')\n",
    "plt.show()"
   ]
  },
  {
   "cell_type": "code",
   "execution_count": null,
   "metadata": {},
   "outputs": [],
   "source": []
  },
  {
   "cell_type": "code",
   "execution_count": null,
   "metadata": {},
   "outputs": [],
   "source": []
  },
  {
   "cell_type": "code",
   "execution_count": null,
   "metadata": {},
   "outputs": [],
   "source": []
  }
 ],
 "metadata": {
  "anaconda-cloud": {},
  "celltoolbar": "Raw Cell Format",
  "kernelspec": {
   "display_name": "Python 3",
   "language": "python",
   "name": "python3"
  },
  "language_info": {
   "codemirror_mode": {
    "name": "ipython",
    "version": 3
   },
   "file_extension": ".py",
   "mimetype": "text/x-python",
   "name": "python",
   "nbconvert_exporter": "python",
   "pygments_lexer": "ipython3",
   "version": "3.8.5"
  }
 },
 "nbformat": 4,
 "nbformat_minor": 2
}
